{
 "cells": [
  {
   "cell_type": "markdown",
   "metadata": {},
   "source": [
    "# Anchored CorEx: Topic Modeling with Minimal Domain Knowledge"
   ]
  },
  {
   "cell_type": "markdown",
   "metadata": {},
   "source": [
    "**Author:** [Ryan J. Gallagher](http://ryanjgallagher.github.io/)  \n",
    "\n",
    "**Last updated:** 05/22/2020"
   ]
  },
  {
   "cell_type": "markdown",
   "metadata": {},
   "source": [
    "This notebook walks through how to use the CorEx topic model code. This includes fitting CorEx to your data, examining the topic model output, outputting results, building a hierarchical topic model, and anchoring words to topics.\n",
    "\n",
    "Details of the CorEx topic model and evaluations against unsupervised and semi-supervised variants of LDA can be found in our TACL paper:\n",
    "\n",
    "Gallagher, Ryan J., Kyle Reing, David Kale, and Greg Ver Steeg. \"[Anchored Correlation Explanation: Topic Modeling with Minimal Domain Knowledge](https://www.transacl.org/ojs/index.php/tacl/article/view/1244).\" *Transactions of the Association for Computational Linguistics (TACL)*, 2017."
   ]
  },
  {
   "cell_type": "code",
   "execution_count": 2,
   "metadata": {},
   "outputs": [],
   "source": [
    "import numpy as np\n",
    "import scipy.sparse as ss\n",
    "import matplotlib.pyplot as plt\n",
    "\n",
    "from corextopic import corextopic as ct\n",
    "from corextopic import vis_topic as vt # jupyter notebooks will complain matplotlib is being loaded twice\n",
    "\n",
    "from sklearn.datasets import fetch_20newsgroups\n",
    "from sklearn.feature_extraction.text import CountVectorizer\n",
    "\n",
    "%matplotlib inline"
   ]
  },
  {
   "cell_type": "markdown",
   "metadata": {},
   "source": [
    "## Loading the 20 Newsgroups Dataset"
   ]
  },
  {
   "cell_type": "markdown",
   "metadata": {},
   "source": [
    "We need to first load data to run the CorEx topic model. We'll use the 20 Newsgroups dataset, which scikit-learn provides functionality to access."
   ]
  },
  {
   "cell_type": "code",
   "execution_count": 3,
   "metadata": {
    "collapsed": true
   },
   "outputs": [],
   "source": [
    "# Get 20 newsgroups data\n",
    "newsgroups = fetch_20newsgroups(subset='train', remove=('headers', 'footers', 'quotes'))"
   ]
  },
  {
   "cell_type": "markdown",
   "metadata": {},
   "source": [
    "The topic model assumes input is in the form of a doc-word matrix, where rows are documents and columns are binary counts. We'll vectorize the newsgroups data, take the top 20,000 words, and convert it to a sparse matrix to save on memory usage. Note, we use binary count vectors as input to the CorEx topic model."
   ]
  },
  {
   "cell_type": "code",
   "execution_count": 4,
   "metadata": {},
   "outputs": [
    {
     "data": {
      "text/plain": [
       "(11314, 20000)"
      ]
     },
     "execution_count": 4,
     "metadata": {},
     "output_type": "execute_result"
    }
   ],
   "source": [
    "# Transform 20 newsgroup data into a sparse matrix\n",
    "vectorizer = CountVectorizer(stop_words='english', max_features=20000, binary=True)\n",
    "doc_word = vectorizer.fit_transform(newsgroups.data)\n",
    "doc_word = ss.csr_matrix(doc_word)\n",
    "\n",
    "doc_word.shape # n_docs x m_words"
   ]
  },
  {
   "cell_type": "markdown",
   "metadata": {},
   "source": [
    "Our doc-word matrix is 11,314 documents by 20,000 words. Let's get the words that label the columns. We'll need these for outputting readable topics and later for anchoring."
   ]
  },
  {
   "cell_type": "code",
   "execution_count": 5,
   "metadata": {
    "collapsed": true
   },
   "outputs": [],
   "source": [
    "# Get words that label the columns (needed to extract readable topics and make anchoring easier)\n",
    "words = list(np.asarray(vectorizer.get_feature_names()))"
   ]
  },
  {
   "cell_type": "markdown",
   "metadata": {},
   "source": [
    "We'll do a final step of preprocessing where we remove all integers from our set of words. This brings is down to 19,038 words."
   ]
  },
  {
   "cell_type": "code",
   "execution_count": 6,
   "metadata": {},
   "outputs": [
    {
     "data": {
      "text/plain": [
       "(11314, 19038)"
      ]
     },
     "execution_count": 6,
     "metadata": {},
     "output_type": "execute_result"
    }
   ],
   "source": [
    "not_digit_inds = [ind for ind,word in enumerate(words) if not word.isdigit()]\n",
    "doc_word = doc_word[:,not_digit_inds]\n",
    "words    = [word for ind,word in enumerate(words) if not word.isdigit()]\n",
    "\n",
    "doc_word.shape # n_docs x m_words"
   ]
  },
  {
   "cell_type": "markdown",
   "metadata": {},
   "source": [
    "## CorEx Topic Model"
   ]
  },
  {
   "cell_type": "markdown",
   "metadata": {},
   "source": [
    "The main parameters of the CorEx topic model are:\n",
    "+ **`n_hidden`**: number of topics (\"hidden\" as in \"hidden latent topics\")\n",
    "+ **`words`**: words that label the columns of the doc-word matrix (optional)\n",
    "+ **`docs`**: document labels that label the rows of the doc-word matrix (optional)\n",
    "+ **`max_iter`**: number of iterations to run through the update equations (optional, defaults to 200)\n",
    "+ **`verbose`**:  if `verbose=1`, then CorEx will print the topic TCs with each iteration\n",
    "+ **`seed`**:     random number seed to use for model initialization (optional)\n",
    "\n",
    "We'll train a topic model with 50 topics. (This will take a few minutes.)"
   ]
  },
  {
   "cell_type": "code",
   "execution_count": 7,
   "metadata": {
    "collapsed": true
   },
   "outputs": [],
   "source": [
    "# Train the CorEx topic model with 50 topics\n",
    "topic_model = ct.Corex(n_hidden=50, words=words, max_iter=200, verbose=False, seed=1)\n",
    "topic_model.fit(doc_word, words=words);"
   ]
  },
  {
   "cell_type": "markdown",
   "metadata": {},
   "source": [
    "## CorEx Output"
   ]
  },
  {
   "cell_type": "markdown",
   "metadata": {},
   "source": [
    "### Topics"
   ]
  },
  {
   "cell_type": "markdown",
   "metadata": {},
   "source": [
    "The CorEx topic model provides functionality for easily accessing the topics. Let's take a look one of the topics."
   ]
  },
  {
   "cell_type": "code",
   "execution_count": 8,
   "metadata": {},
   "outputs": [
    {
     "data": {
      "text/plain": [
       "[('team', 0.07605118792683423),\n",
       " ('game', 0.06666754127982474),\n",
       " ('season', 0.04887993842517729),\n",
       " ('players', 0.04734426771441264),\n",
       " ('league', 0.043708887910980376),\n",
       " ('play', 0.043335932010217425),\n",
       " ('hockey', 0.042396968873452616),\n",
       " ('games', 0.039692707277392415),\n",
       " ('teams', 0.03682532840163069),\n",
       " ('nhl', 0.03191145093230828)]"
      ]
     },
     "execution_count": 8,
     "metadata": {},
     "output_type": "execute_result"
    }
   ],
   "source": [
    "# Print a single topic from CorEx topic model\n",
    "topic_model.get_topics(topic=1, n_words=10)"
   ]
  },
  {
   "cell_type": "markdown",
   "metadata": {},
   "source": [
    "The topic words are those with the highest *mutual information* with the topic, rather than those with highest probability within the topic as in LDA. The mutual information with the topic is the number reported in each tuple. Theoretically, mutual information is always positive. If the CorEx output returns a negative mutual information from **`get_topics()`**, then the absolute value of that quantity is the mutual information between the topic and the *absence* of that word.\n",
    "\n",
    "If the column labels have not been specified through **`words`**, then the code will return the column indices for the top words in each topic.\n",
    "\n",
    "We can also retrieve all of the topics at once if we would like."
   ]
  },
  {
   "cell_type": "code",
   "execution_count": 9,
   "metadata": {},
   "outputs": [
    {
     "name": "stdout",
     "output_type": "stream",
     "text": [
      "0: dsl,n3jxp,chastity,cadre,geb,shameful,intellect,skepticism,banks,pitt\n",
      "1: team,game,season,players,league,play,hockey,games,teams,nhl\n",
      "2: government,law,public,rights,state,encryption,clipper,federal,security,secure\n",
      "3: god,jesus,bible,christians,christian,christ,religion,jews,church,faith\n",
      "4: people,say,fact,point,believe,person,saying,world,reason,mean\n",
      "5: armenians,armenian,national,international,argic,press,policy,serdar,soviet,armenia\n",
      "6: file,program,window,directory,ftp,pub,server,application,unix,available\n",
      "7: based,issue,sense,clear,truth,subject,certain,known,particular,existence\n",
      "8: cs,ma,au,gmt,cc,uu,id,sites,fi,host\n",
      "9: windows,software,card,thanks,pc,dos,files,disk,advance,ram\n",
      "10: drive,sale,scsi,controller,board,shipping,ide,drives,cd,bus\n",
      "11: pitching,hit,staff,braves,runs,hitter,nl,smith,hr,baltimore\n",
      "12: just,don,like,time,going,right,better,let,come,didn\n",
      "13: archive,various,document,related,addition,modified,published,contents,complete,distributed\n",
      "14: information,internet,university,systems,send,following,address,phone,contact,computer\n",
      "15: year,april,san,york,los,washington,north,angeles,city,california\n",
      "16: war,country,children,killed,military,population,society,live,soldiers,anti\n",
      "17: space,nasa,orbit,earth,moon,launch,shuttle,lunar,mission,flight\n",
      "18: life,sin,words,mind,spirit,born,father,follow,accept,son\n",
      "19: pp,special,van,berkeley,journal,ai,mark,mu,la,vol\n",
      "20: years,away,later,left,came,days,old,ago,took,gave\n",
      "21: disease,medical,doctor,patients,food,cause,treatment,medicine,blood,health\n",
      "22: provide,questions,provides,developed,specific,development,standard,require,appropriate,commercial\n",
      "23: given,number,note,end,present,taken,according,purpose,numbers,major\n",
      "24: key,keys,data,algorithm,details,des,process,contains,users,provided\n",
      "25: members,turkish,involved,army,organizations,troops,received,organization,land,fighting\n",
      "26: read,different,example,does,word,having,groups,written,book,try\n",
      "27: united,states,american,force,individual,independent,arms,community,nation,forces\n",
      "28: death,human,said,evidence,crime,self,kill,lives,murder,killing\n",
      "29: new,including,sent,single,department,short,news,ii,school,placed\n",
      "30: use,using,work,used,need,run,problems,line,help,type\n",
      "31: large,small,control,needed,outside,local,light,parts,useful,ground\n",
      "32: general,important,far,course,non,times,actually,consider,likely,result\n",
      "33: think,way,good,things,really,know,did,thing,ve,probably\n",
      "34: problem,set,place,called,change,trying,return,open,support,instead\n",
      "35: man,history,today,women,went,told,coming,happened,stand,knew\n",
      "36: second,john,period,1st,2nd,3rd,points,goal,ed,followed\n",
      "37: bike,ride,engine,riding,dod,bikes,miles,motorcycle,rear,honda\n",
      "38: drivers,mode,mb,faster,interface,os,driver,hp,color,fast\n",
      "39: gun,guns,weapons,firearms,defense,weapon,batf,armed,assault,shooting\n",
      "40: high,power,low,current,model,al,lower,higher,series,average\n",
      "41: ways,dr,break,passed,kinds,reach,mass,larry,content,stands\n",
      "42: wide,included,volume,remote,bit,pages,notes,fully,fields,operations\n",
      "43: long,day,especially,situation,rest,body,century,ones,family,worse\n",
      "44: make,want,real,case,possible,order,quite,free,able,ask\n",
      "45: car,money,cars,pay,tax,road,deal,insurance,worth,dollars\n",
      "46: drug,certainly,considered,taking,effective,expect,generally,social,child,purposes\n",
      "47: necessary,strong,prevent,required,plan,safe,carefully,attention,aside,unique\n",
      "48: little,wants,takes,comes,lead,trouble,looks,pass,capable,unfortunately\n",
      "49: bring,brought,happy,charge,smart,improve,shows,england,cast,belong\n"
     ]
    }
   ],
   "source": [
    "# Print all topics from the CorEx topic model\n",
    "topics = topic_model.get_topics()\n",
    "for n,topic in enumerate(topics):\n",
    "    topic_words,_ = zip(*topic)\n",
    "    print('{}: '.format(n) + ','.join(topic_words))"
   ]
  },
  {
   "cell_type": "markdown",
   "metadata": {},
   "source": [
    "The first topic for the newsgroup data tends to be less coherent than expected because of encodings and other oddities in the newsgroups data.  \n",
    "\n",
    "We can also get the column indices instead of the column labels if necessary."
   ]
  },
  {
   "cell_type": "code",
   "execution_count": 10,
   "metadata": {},
   "outputs": [
    {
     "data": {
      "text/plain": [
       "[(1336, 0.037197519799330066),\n",
       " (1335, 0.03608567121432171),\n",
       " (11448, 0.03531603719337086),\n",
       " (8968, 0.03075981567134055),\n",
       " (1306, 0.029126522278008646),\n",
       " (13303, 0.02777130708538792),\n",
       " (13051, 0.027594397620650163),\n",
       " (15437, 0.026729063880204122),\n",
       " (16092, 0.026121923976488198),\n",
       " (1334, 0.02589034185072226)]"
      ]
     },
     "execution_count": 10,
     "metadata": {},
     "output_type": "execute_result"
    }
   ],
   "source": [
    "topic_model.get_topics(topic=5, n_words=10, print_words=False)"
   ]
  },
  {
   "cell_type": "markdown",
   "metadata": {},
   "source": [
    "If we need to directly access the topic assignments for each word, they can be accessed through **`cluster`**."
   ]
  },
  {
   "cell_type": "code",
   "execution_count": 11,
   "metadata": {},
   "outputs": [
    {
     "name": "stdout",
     "output_type": "stream",
     "text": [
      "[ 8  9 38 ... 37  0  0]\n",
      "(19038,)\n"
     ]
    }
   ],
   "source": [
    "print(topic_model.clusters)\n",
    "print(topic_model.clusters.shape) # m_words"
   ]
  },
  {
   "cell_type": "markdown",
   "metadata": {},
   "source": [
    "### Document Labels"
   ]
  },
  {
   "cell_type": "markdown",
   "metadata": {},
   "source": [
    "As with the topic words, the most probable documents per topic can also be easily accessed. Documents are sorted according to log probabilities which is why the highest probability documents have a score of 0 ($e^0 = 1$) and other documents have negative scores (for example, $e^{-0.5} \\approx 0.6$)."
   ]
  },
  {
   "cell_type": "code",
   "execution_count": 12,
   "metadata": {},
   "outputs": [
    {
     "name": "stdout",
     "output_type": "stream",
     "text": [
      "NOTE: 'docs' not provided to CorEx. Returning top docs as lists of row indices\n"
     ]
    },
    {
     "data": {
      "text/plain": [
       "[(3097, 0.0),\n",
       " (2350, 0.0),\n",
       " (105, 0.0),\n",
       " (3864, 0.0),\n",
       " (9396, 0.0),\n",
       " (11229, 0.0),\n",
       " (6440, 0.0),\n",
       " (6437, 0.0),\n",
       " (2284, 0.0),\n",
       " (8445, 0.0)]"
      ]
     },
     "execution_count": 12,
     "metadata": {},
     "output_type": "execute_result"
    }
   ],
   "source": [
    "# Print a single topic from CorEx topic model\n",
    "topic_model.get_top_docs(topic=0, n_docs=10, sort_by='log_prob')"
   ]
  },
  {
   "cell_type": "markdown",
   "metadata": {},
   "source": [
    "CorEx is a *discriminative* model, whereas LDA is a *generative* model. This means that while LDA outputs a probability distribution over each document, CorEx instead estimates the probability a document belongs to a topic given that document's words. As a result, the probabilities across topics for a given document do not have to add up to 1. The estimated probabilities of topics for each document can be accessed through **`log_p_y_given_x`** or **`p_y_given_x`**."
   ]
  },
  {
   "cell_type": "code",
   "execution_count": 13,
   "metadata": {},
   "outputs": [
    {
     "name": "stdout",
     "output_type": "stream",
     "text": [
      "(11314, 50)\n"
     ]
    }
   ],
   "source": [
    "print(topic_model.p_y_given_x.shape) # n_docs x k_topics"
   ]
  },
  {
   "cell_type": "markdown",
   "metadata": {},
   "source": [
    "We can also use a softmax to make a binary determination of which documents belong to each topic. These softmax labels can be accessed through **`labels`**."
   ]
  },
  {
   "cell_type": "code",
   "execution_count": 14,
   "metadata": {},
   "outputs": [
    {
     "name": "stdout",
     "output_type": "stream",
     "text": [
      "(11314, 50)\n"
     ]
    }
   ],
   "source": [
    "print(topic_model.labels.shape) # n_docs x k_topics"
   ]
  },
  {
   "cell_type": "markdown",
   "metadata": {},
   "source": [
    "Since CorEx does not prescribe a probability distribution of topics over each document, this means that a document could possibly belong to no topics (all 0's across topics in **`labels`**) or all topics (all 1's across topics in **`labels`**)."
   ]
  },
  {
   "cell_type": "markdown",
   "metadata": {},
   "source": [
    "## Total Correlation and Model Selection"
   ]
  },
  {
   "cell_type": "markdown",
   "metadata": {},
   "source": [
    "### Overall TC"
   ]
  },
  {
   "cell_type": "markdown",
   "metadata": {},
   "source": [
    "Total correlation is the measure which CorEx maximize when constructing the topic model. It can be accessed through **`tc`** and is reported in nats."
   ]
  },
  {
   "cell_type": "code",
   "execution_count": 15,
   "metadata": {},
   "outputs": [
    {
     "data": {
      "text/plain": [
       "44.54780845461276"
      ]
     },
     "execution_count": 15,
     "metadata": {},
     "output_type": "execute_result"
    }
   ],
   "source": [
    "topic_model.tc"
   ]
  },
  {
   "cell_type": "markdown",
   "metadata": {},
   "source": [
    "**Model selection:** CorEx starts its algorithm with a random initialization, and so different runs can result in different topic models. One way of finding a better topic model is to restart the CorEx algorithm several times and take the run that has the highest TC value (i.e. the run that produces topics that are most informative about the documents)."
   ]
  },
  {
   "cell_type": "markdown",
   "metadata": {},
   "source": [
    "### Topic TC"
   ]
  },
  {
   "cell_type": "markdown",
   "metadata": {},
   "source": [
    "The overall total correlation is the sum of the total correlation per each topic. These can be accessed through **`tcs`**. For an unsupervised CorEx topic model, the topics are always sorted from high to low according to their TC. For an anchored CorEx topic model, the topics are not sorted, and are outputted such that the anchored topics come first."
   ]
  },
  {
   "cell_type": "code",
   "execution_count": 16,
   "metadata": {},
   "outputs": [
    {
     "data": {
      "text/plain": [
       "(50,)"
      ]
     },
     "execution_count": 16,
     "metadata": {},
     "output_type": "execute_result"
    }
   ],
   "source": [
    "topic_model.tcs.shape # k_topics"
   ]
  },
  {
   "cell_type": "code",
   "execution_count": 17,
   "metadata": {},
   "outputs": [
    {
     "name": "stdout",
     "output_type": "stream",
     "text": [
      "44.54780845461276\n",
      "44.54780845461276\n"
     ]
    }
   ],
   "source": [
    "print(np.sum(topic_model.tcs))\n",
    "print(topic_model.tc)"
   ]
  },
  {
   "cell_type": "markdown",
   "metadata": {},
   "source": [
    "**Selecting number of topics:** one way to choose the number of topics is to observe the distribution of TCs for each topic to see how much each additional topic contributes to the overall TC. We should keep adding topics until additional topics do not significantly contribute to the overall TC. This is similar to choosing a cutoff eigenvalue when doing topic modeling via LSA."
   ]
  },
  {
   "cell_type": "code",
   "execution_count": 18,
   "metadata": {
    "scrolled": false
   },
   "outputs": [
    {
     "data": {
      "image/png": "[encoded data removed]",
      "text/plain": [
       "<matplotlib.figure.Figure at 0x1a102a8e80>"
      ]
     },
     "metadata": {},
     "output_type": "display_data"
    }
   ],
   "source": [
    "plt.figure(figsize=(10,5))\n",
    "plt.bar(range(topic_model.tcs.shape[0]), topic_model.tcs, color='#4e79a7', width=0.5)\n",
    "plt.xlabel('Topic', fontsize=16)\n",
    "plt.ylabel('Total Correlation (nats)', fontsize=16);"
   ]
  },
  {
   "cell_type": "markdown",
   "metadata": {},
   "source": [
    "We see the first topic is much more informative than the other topics. Given that we suspect that this topic is picking up on image encodings (as given by \"dsl\" and \"n3jxp\" in the topic) and other boilerplate text (as given by the high TC and lack of coherence of the rest of the topic), we could consider doing additional investigation and preprocessing to help ensure that the CorEx topic model does not pick up on these patterns which are not insightful."
   ]
  },
  {
   "cell_type": "markdown",
   "metadata": {},
   "source": [
    "### Pointwise Document TC"
   ]
  },
  {
   "cell_type": "markdown",
   "metadata": {},
   "source": [
    "We can decompose total correlation further. The topic correlation is the average of the pointwise total correlations for each individual document. The pointwise total correlations can be accessed through **`log_z`**."
   ]
  },
  {
   "cell_type": "code",
   "execution_count": 19,
   "metadata": {},
   "outputs": [
    {
     "data": {
      "text/plain": [
       "(11314, 50)"
      ]
     },
     "execution_count": 19,
     "metadata": {},
     "output_type": "execute_result"
    }
   ],
   "source": [
    "topic_model.log_z.shape # n_docs x k_topics"
   ]
  },
  {
   "cell_type": "code",
   "execution_count": 20,
   "metadata": {},
   "outputs": [
    {
     "name": "stdout",
     "output_type": "stream",
     "text": [
      "[3.64813418 1.57958569 1.48835238 1.42639341 1.42043661 1.39232446\n",
      " 1.37222362 1.36535367 1.34334261 1.08793513 1.06264005 1.03767991\n",
      " 1.01780633 0.98444346 0.98350034 0.97751588 0.97425573 0.96560217\n",
      " 0.9170467  0.91160502 0.87920818 0.86341492 0.83259909 0.82311403\n",
      " 0.79730235 0.78507652 0.76449939 0.74186846 0.73348486 0.7232203\n",
      " 0.70714498 0.70407292 0.6876558  0.68271949 0.66403509 0.60590956\n",
      " 0.59919508 0.58802044 0.5869777  0.58426131 0.57613847 0.57032326\n",
      " 0.5434933  0.54324576 0.504955   0.48664151 0.28893956 0.27183877\n",
      " 0.24173114 0.21054385]\n",
      "[3.64813418 1.57958569 1.48835238 1.42639341 1.42043661 1.39232446\n",
      " 1.37222362 1.36535367 1.34334261 1.08793513 1.06264005 1.03767991\n",
      " 1.01780633 0.98444346 0.98350034 0.97751588 0.97425573 0.96560217\n",
      " 0.9170467  0.91160502 0.87920818 0.86341492 0.83259909 0.82311403\n",
      " 0.79730235 0.78507652 0.76449939 0.74186846 0.73348486 0.7232203\n",
      " 0.70714498 0.70407292 0.6876558  0.68271949 0.66403509 0.60590956\n",
      " 0.59919508 0.58802044 0.5869777  0.58426131 0.57613847 0.57032326\n",
      " 0.5434933  0.54324576 0.504955   0.48664151 0.28893956 0.27183877\n",
      " 0.24173114 0.21054385]\n"
     ]
    }
   ],
   "source": [
    "print(np.mean(topic_model.log_z, axis=0))\n",
    "print(topic_model.tcs)"
   ]
  },
  {
   "cell_type": "markdown",
   "metadata": {},
   "source": [
    "The pointwise total correlations in **`log_z`** represent the correlations within an individual document explained by a particular topic. These correlations have been used to measure how \"surprising\" documents are with respect to given topics (see references below)."
   ]
  },
  {
   "cell_type": "markdown",
   "metadata": {},
   "source": [
    "## Hierarchical Topic Models"
   ]
  },
  {
   "cell_type": "markdown",
   "metadata": {},
   "source": [
    "The **`labels`** attribute gives the binary topic expressions for each document and each topic. We can use this output as input to another CorEx topic model to get latent representations of the topics themselves. This yields a hierarchical CorEx topic model. Like the first layer of the topic model, one can determine the number of latent variables to add in higher layers through examination of the topic TCs."
   ]
  },
  {
   "cell_type": "code",
   "execution_count": 21,
   "metadata": {},
   "outputs": [
    {
     "name": "stdout",
     "output_type": "stream",
     "text": [
      "WARNING: Some words never appear (or always appear)\n"
     ]
    }
   ],
   "source": [
    "# Train a second layer to the topic model\n",
    "tm_layer2 = ct.Corex(n_hidden=10)\n",
    "tm_layer2.fit(topic_model.labels);\n",
    "\n",
    "# Train a third layer to the topic model\n",
    "tm_layer3 = ct.Corex(n_hidden=1)\n",
    "tm_layer3.fit(tm_layer2.labels);"
   ]
  },
  {
   "cell_type": "markdown",
   "metadata": {},
   "source": [
    "If you have `graphviz` installed, then you can output visualizations of the hierarchial topic model to your current working directory. One can also create custom visualizations of the hierarchy by properly making use of the **`labels`** attribute of each layer."
   ]
  },
  {
   "cell_type": "code",
   "execution_count": null,
   "metadata": {
    "collapsed": true
   },
   "outputs": [],
   "source": [
    "vt.vis_hierarchy([topic_model, tm_layer2, tm_layer3], column_label=words, max_edges=200, prefix='topic-model-example')"
   ]
  },
  {
   "cell_type": "markdown",
   "metadata": {},
   "source": [
    "## Anchoring for Semi-Supervised Topic Modeling"
   ]
  },
  {
   "cell_type": "markdown",
   "metadata": {},
   "source": [
    "Anchored CorEx is an extension of CorEx that allows the \"anchoring\" of words to topics. When anchoring a word to a topic, CorEx is trying to maximize the mutual information between that word and the anchored topic. So, anchoring provides a way to guide the topic model towards specific subsets of words that the user would like to explore.  \n",
    "\n",
    "The anchoring mechanism is flexible, and so there are many possibilities of anchoring. We explored the following types of anchoring in our TACL paper:\n",
    "\n",
    "1. Anchoring a single set of words to a single topic. This can help promote a topic that did not naturally emerge when running an unsupervised instance of the CorEx topic model. For example, one might anchor words like \"snow,\" \"cold,\" and \"avalanche\" to a topic if one suspects there should be a snow avalanche topic within a set of disaster relief articles.\n",
    "\n",
    "2. Anchoring single sets of words to multiple topics. This can help find different aspects of a topic that may be discussed in several different contexts. For example, one might anchor \"protest\" to three topics and \"riot\" to three other topics to understand different framings that arise from tweets about political protests.\n",
    "\n",
    "3. Anchoring different sets of words to multiple topics. This can help enforce topic separability if there appear to be chimera topics. For example, one might anchor \"mountain,\" \"Bernese,\" and \"dog\" to one topic and \"mountain,\" \"rocky,\" and \"colorado\" to another topic to help separate topics that merge discussion of Bernese Mountain Dogs and the Rocky Mountains.\n",
    "\n",
    "\n",
    "We'll demonstrate how to anchor words to the the CorEx topic model and how to develop other anchoring strategies."
   ]
  },
  {
   "cell_type": "code",
   "execution_count": 22,
   "metadata": {
    "collapsed": true
   },
   "outputs": [],
   "source": [
    "# Anchor one word to the first topic\n",
    "anchor_words = ['nasa']"
   ]
  },
  {
   "cell_type": "code",
   "execution_count": 23,
   "metadata": {
    "collapsed": true
   },
   "outputs": [],
   "source": [
    "# Anchor the word 'nasa' to the first topic\n",
    "anchored_topic_model = ct.Corex(n_hidden=50, seed=2)\n",
    "anchored_topic_model.fit(doc_word, words=words, anchors=anchor_words, anchor_strength=6);"
   ]
  },
  {
   "cell_type": "markdown",
   "metadata": {},
   "source": [
    "This anchors the single word \"nasa\" to the first topic."
   ]
  },
  {
   "cell_type": "code",
   "execution_count": 24,
   "metadata": {},
   "outputs": [
    {
     "name": "stdout",
     "output_type": "stream",
     "text": [
      "0: nasa,gov,ames,institute,jpl,station,propulsion,jsc,arc,shafer\n"
     ]
    }
   ],
   "source": [
    "topic_words,_ = zip(*anchored_topic_model.get_topics(topic=0))\n",
    "print('0: ' + ','.join(topic_words))"
   ]
  },
  {
   "cell_type": "markdown",
   "metadata": {},
   "source": [
    "We can anchor multiple groups of words to multiple topics as well."
   ]
  },
  {
   "cell_type": "code",
   "execution_count": 25,
   "metadata": {
    "collapsed": true
   },
   "outputs": [],
   "source": [
    "# Anchor 'nasa' and 'space' to first topic, 'sports' and 'stadium' to second topic, so on...\n",
    "anchor_words = [['nasa', 'space'], ['sports', 'stadium'], ['politics', 'government'], ['love', 'hope']]\n",
    "\n",
    "anchored_topic_model = ct.Corex(n_hidden=50, seed=2)\n",
    "anchored_topic_model.fit(doc_word, words=words, anchors=anchor_words, anchor_strength=6);"
   ]
  },
  {
   "cell_type": "code",
   "execution_count": 26,
   "metadata": {},
   "outputs": [
    {
     "name": "stdout",
     "output_type": "stream",
     "text": [
      "0: space,nasa,orbit,moon,shuttle,launch,gov,earth,lunar,ames\n",
      "1: sports,stadium,april,san,city,los,york,washington,angeles,center\n",
      "2: government,politics,state,rights,law,war,country,military,public,security\n",
      "3: hope,love,helps,relates,virile,tatoos,sustaining,whosoever,weird,allegory\n"
     ]
    }
   ],
   "source": [
    "for n in range(len(anchor_words)):\n",
    "    topic_words,_ = zip(*anchored_topic_model.get_topics(topic=n))\n",
    "    print('{}: '.format(n) + ','.join(topic_words))"
   ]
  },
  {
   "cell_type": "markdown",
   "metadata": {},
   "source": [
    "Note, in the above topic model, topics will no longer be sorted according to descending TC. Instead, the first topic will be the one with \"nasa\" and \"space\" anchored to it, the second topic will be the one with \"sports\" and \"stadium\" anchored to it, and so on.  \n",
    "\n",
    "Observe, the topic with \"love\" and \"hope\" anchored to it is less interpretable than the other three topics. This could be a sign that there is not a good topic around these two words, and one should consider if it is appropriate to anchor around them.\n",
    "\n",
    "We can continue to develop even more involved anchoring strategies. Here we anchor \"nasa\" by itself, as well as in two other topics each with \"politics\" and \"news\" to find different aspects around the word \"nasa\". We also create a fourth anchoring of \"war\" to a topic."
   ]
  },
  {
   "cell_type": "code",
   "execution_count": 27,
   "metadata": {
    "collapsed": true
   },
   "outputs": [],
   "source": [
    "# Anchor with single words and groups of words\n",
    "anchor_words = ['nasa', ['nasa', 'politics'], ['nasa', 'news'], 'war']\n",
    "\n",
    "anchored_topic_model = ct.Corex(n_hidden=50, seed=2)\n",
    "anchored_topic_model.fit(doc_word, words=words, anchors=anchor_words, anchor_strength=6);"
   ]
  },
  {
   "cell_type": "code",
   "execution_count": 28,
   "metadata": {},
   "outputs": [
    {
     "name": "stdout",
     "output_type": "stream",
     "text": [
      "0: nasa,space,orbit,launch,shuttle,moon,earth,lunar,satellite,commercial\n",
      "1: nasa,politics,research,gov,science,scientific,institute,organization,studies,providing\n",
      "2: news,nasa,insisting,edwards,hal,llnl,cso,cfv,nodak,admin\n",
      "3: war,israel,armenians,armenian,israeli,jews,soldiers,military,killed,history\n"
     ]
    }
   ],
   "source": [
    "for n in range(len(anchor_words)):\n",
    "    topic_words,_ = zip(*anchored_topic_model.get_topics(topic=n))\n",
    "    print('{}: '.format(n) + ','.join(topic_words))"
   ]
  },
  {
   "cell_type": "markdown",
   "metadata": {},
   "source": [
    "**Note:** If you do not specify the column labels through `words`, then you can still anchor by specifying the column indices of the features you wish to anchor on. You may also specify anchors using a mix of strings and indices if desired."
   ]
  },
  {
   "cell_type": "markdown",
   "metadata": {},
   "source": [
    "The anchor strength can either be set globally for all topics and words, as above, or independently for each topic. \n",
    "In the latter case, each word can be given its own strength or the same value can be used for each word in the topic.\n",
    "\n",
    "In the example below, the second topic anchoring \"nasa\" and \"politics\" weights \"politics\" more highly than \"nasa\", while the third topic weights them equally."
   ]
  },
  {
   "cell_type": "code",
   "execution_count": 29,
   "metadata": {},
   "outputs": [],
   "source": [
    "anchor_strengths = [6, [6, 7], 7, 6]\n",
    "\n",
    "anchored_topic_model = ct.Corex(n_hidden=50, seed=2)\n",
    "anchored_topic_model.fit(doc_word, words=words, anchors=anchor_words, anchor_strength=anchor_strengths);"
   ]
  },
  {
   "cell_type": "code",
   "execution_count": 30,
   "metadata": {},
   "outputs": [
    {
     "name": "stdout",
     "output_type": "stream",
     "text": [
      "0: nasa,space,orbit,technology,shuttle,launch,development,moon,commercial,mission\n",
      "1: nasa,politics,gov,ames,jsc,comprehensive,arc,lewis,larc,shafer\n",
      "2: news,nasa,insisting,pasadena,advertising,edwards,hal,llnl,part1,cfv\n",
      "3: war,israel,armenians,israeli,armenian,jews,soldiers,military,killed,argic\n"
     ]
    }
   ],
   "source": [
    "for n in range(len(anchor_words)):\n",
    "    topic_words,_ = zip(*anchored_topic_model.get_topics(topic=n))\n",
    "    print('{}: '.format(n) + ','.join(topic_words))"
   ]
  },
  {
   "cell_type": "markdown",
   "metadata": {},
   "source": [
    "**Choosing anchor strength:** the anchor strength controls how much weight CorEx puts towards maximizing the mutual information between the anchor words and their respective topics. Anchor strength should always be set at a value *greater than* 1, since setting anchor strength between 0 and 1 only recovers the unsupervised CorEx objective. Empirically, setting anchor strength from 1.5-3 seems to nudge the topic model towards the anchor words. Setting anchor strength greater than 5 is strongly enforcing that the CorEx topic model find a topic associated with the anchor words.\n",
    "\n",
    "We encourage users to experiment with the anchor strength and determine what values are best for their needs."
   ]
  },
  {
   "cell_type": "markdown",
   "metadata": {},
   "source": [
    "## Other Output"
   ]
  },
  {
   "cell_type": "markdown",
   "metadata": {},
   "source": [
    "The **`vis_topic`** module provides support for outputting topics and visualizations of the CorEx topic model. The code below creates a results direcory named \"twenty\" in your working directory."
   ]
  },
  {
   "cell_type": "code",
   "execution_count": null,
   "metadata": {
    "collapsed": true
   },
   "outputs": [],
   "source": [
    "vt.vis_rep(topic_model, column_label=words, prefix='twenty')"
   ]
  },
  {
   "cell_type": "markdown",
   "metadata": {},
   "source": [
    "## Further Reading"
   ]
  },
  {
   "cell_type": "markdown",
   "metadata": {},
   "source": [
    "Our TACL paper details the theory of the CorEx topic model, its sparsity optimization, anchoring via the information bottleneck, comparisons to LDA, and anchoring experiments. The two papers from Greg Ver Steeg and Aram Galstyan develop the CorEx theory in general and provide further motivation and details of the underlying CorEx mechanisms. Hodas et al. demonstrated early CorEx topic model results and investigated an application of pointwise total correlations to quantify \"surprising\" documents.\n",
    "\n",
    "1. [Anchored Correlation Explanation: Topic Modeling with Minimal Domain Knowledge](https://www.transacl.org/ojs/index.php/tacl/article/view/1244), Gallagher et al., TACL 2017.\n",
    "\n",
    "2. [Discovering Structure in High-Dimensional Data Through Correlation Explanation](https://arxiv.org/abs/1406.1222), Ver Steeg and Galstyan, NIPS 2014. \n",
    "\n",
    "3. [Maximally Informative Hierarchical Representions of High-Dimensional Data](https://arxiv.org/abs/1410.7404), Ver Steeg and Galstyan, AISTATS 2015.\n",
    "\n",
    "4. [Disentangling the Lexicons of Disaster Response in Twitter](https://dl.acm.org/citation.cfm?id=2741728), Hodas et al., WWW 2015."
   ]
  }
 ],
 "metadata": {
  "kernelspec": {
   "display_name": "Python 3",
   "language": "python",
   "name": "python3"
  },
  "language_info": {
   "codemirror_mode": {
    "name": "ipython",
    "version": 3
   },
   "file_extension": ".py",
   "mimetype": "text/x-python",
   "name": "python",
   "nbconvert_exporter": "python",
   "pygments_lexer": "ipython3",
   "version": "3.6.3"
  }
 },
 "nbformat": 4,
 "nbformat_minor": 1
}
